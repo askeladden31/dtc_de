{
 "cells": [
  {
   "cell_type": "code",
   "execution_count": 1,
   "id": "96131d66-79cc-48c0-bf7d-b246e14479e4",
   "metadata": {},
   "outputs": [
    {
     "name": "stdout",
     "output_type": "stream",
     "text": [
      "/usr/bin/pip:6: DeprecationWarning: pkg_resources is deprecated as an API. See https://setuptools.pypa.io/en/latest/pkg_resources.html\n",
      "  from pkg_resources import load_entry_point\n",
      "Collecting kafka-python\n",
      "  Downloading kafka_python-2.0.2-py2.py3-none-any.whl (246 kB)\n",
      "\u001b[K     |████████████████████████████████| 246 kB 1.3 MB/s eta 0:00:01\n",
      "\u001b[?25hInstalling collected packages: kafka-python\n",
      "Successfully installed kafka-python-2.0.2\n"
     ]
    }
   ],
   "source": [
    "!pip install kafka-python"
   ]
  },
  {
   "cell_type": "code",
   "execution_count": 2,
   "id": "6983d662-605d-4139-a4ed-51487522b803",
   "metadata": {},
   "outputs": [
    {
     "data": {
      "text/plain": [
       "True"
      ]
     },
     "execution_count": 2,
     "metadata": {},
     "output_type": "execute_result"
    }
   ],
   "source": [
    "import json\n",
    "import time \n",
    "\n",
    "from kafka import KafkaProducer\n",
    "\n",
    "def json_serializer(data):\n",
    "    return json.dumps(data).encode('utf-8')\n",
    "\n",
    "server = 'localhost:9092'\n",
    "\n",
    "producer = KafkaProducer(\n",
    "    bootstrap_servers=[server],\n",
    "    value_serializer=json_serializer\n",
    ")\n",
    "\n",
    "producer.bootstrap_connected()"
   ]
  },
  {
   "cell_type": "code",
   "execution_count": 7,
   "id": "58216091-0fd4-4453-b3a9-85e387d88247",
   "metadata": {},
   "outputs": [
    {
     "name": "stdout",
     "output_type": "stream",
     "text": [
      "Sent: {'number': 0}\n",
      "Sent: {'number': 1}\n",
      "Sent: {'number': 2}\n",
      "Sent: {'number': 3}\n",
      "Sent: {'number': 4}\n",
      "Sent: {'number': 5}\n",
      "Sent: {'number': 6}\n",
      "Sent: {'number': 7}\n",
      "Sent: {'number': 8}\n",
      "Sent: {'number': 9}\n",
      "took 0.51 seconds\n",
      "took 0.51 seconds\n"
     ]
    }
   ],
   "source": [
    "t0 = time.time()\n",
    "\n",
    "topic_name = 'test-topic'\n",
    "\n",
    "for i in range(10):\n",
    "    message = {'number': i}\n",
    "    producer.send(topic_name, value=message)\n",
    "    print(f\"Sent: {message}\")\n",
    "    time.sleep(0.05)\n",
    "\n",
    "t1 = time.time()\n",
    "print(f'took {(t1 - t0):.2f} seconds')\n",
    "\n",
    "producer.flush()\n",
    "\n",
    "t1 = time.time()\n",
    "print(f'took {(t1 - t0):.2f} seconds')"
   ]
  },
  {
   "cell_type": "code",
   "execution_count": 8,
   "id": "d4af745e-1f69-490c-9c83-fcf52b90dce5",
   "metadata": {},
   "outputs": [],
   "source": [
    "import pandas as pd"
   ]
  },
  {
   "cell_type": "code",
   "execution_count": 10,
   "id": "cb781b12-4842-462c-b04a-b080a3212c4e",
   "metadata": {},
   "outputs": [
    {
     "name": "stdout",
     "output_type": "stream",
     "text": [
      "File ‘green_tripdata_2019-10.csv.gz’ already there; not retrieving.\n",
      "\n"
     ]
    }
   ],
   "source": [
    "!wget -nc https://github.com/DataTalksClub/nyc-tlc-data/releases/download/green/green_tripdata_2019-10.csv.gz"
   ]
  },
  {
   "cell_type": "code",
   "execution_count": 13,
   "id": "4086d8b2-06dd-442a-9c0f-2f0b7c8894bf",
   "metadata": {},
   "outputs": [],
   "source": [
    "df_green = pd.read_csv(\"green_tripdata_2019-10.csv.gz\", usecols=[\n",
    "    'lpep_pickup_datetime',\n",
    "    'lpep_dropoff_datetime',\n",
    "    'PULocationID',\n",
    "    'DOLocationID',\n",
    "    'passenger_count',\n",
    "    'trip_distance',\n",
    "    'tip_amount'\n",
    "])"
   ]
  },
  {
   "cell_type": "code",
   "execution_count": 14,
   "id": "6f22c6aa-fa2d-4db5-8432-0bafe2cf11d1",
   "metadata": {},
   "outputs": [
    {
     "data": {
      "text/plain": [
       "<bound method NDFrame.head of        lpep_pickup_datetime lpep_dropoff_datetime  PULocationID  DOLocationID  \\\n",
       "0       2019-10-01 00:26:02   2019-10-01 00:39:58           112           196   \n",
       "1       2019-10-01 00:18:11   2019-10-01 00:22:38            43           263   \n",
       "2       2019-10-01 00:09:31   2019-10-01 00:24:47           255           228   \n",
       "3       2019-10-01 00:37:40   2019-10-01 00:41:49           181           181   \n",
       "4       2019-10-01 00:08:13   2019-10-01 00:17:56            97           188   \n",
       "...                     ...                   ...           ...           ...   \n",
       "476381  2019-10-31 23:30:00   2019-11-01 00:00:00            65           102   \n",
       "476382  2019-10-31 23:03:00   2019-10-31 23:24:00           129           136   \n",
       "476383  2019-10-31 23:02:00   2019-10-31 23:23:00            61           222   \n",
       "476384  2019-10-31 23:42:00   2019-10-31 23:56:00            76            39   \n",
       "476385  2019-10-31 23:23:00   2019-10-31 23:56:00            56           215   \n",
       "\n",
       "        passenger_count  trip_distance  tip_amount  \n",
       "0                   1.0           5.88        0.00  \n",
       "1                   1.0           0.80        0.00  \n",
       "2                   2.0           7.50        0.00  \n",
       "3                   1.0           0.90        0.00  \n",
       "4                   1.0           2.52        2.26  \n",
       "...                 ...            ...         ...  \n",
       "476381              NaN           7.04        0.00  \n",
       "476382              NaN           0.00        0.00  \n",
       "476383              NaN           3.90        0.00  \n",
       "476384              NaN           3.08        0.00  \n",
       "476385              NaN           6.84        0.00  \n",
       "\n",
       "[476386 rows x 7 columns]>"
      ]
     },
     "execution_count": 14,
     "metadata": {},
     "output_type": "execute_result"
    }
   ],
   "source": [
    "df_green.head"
   ]
  },
  {
   "cell_type": "code",
   "execution_count": 16,
   "id": "3ae1ad88-9607-4af6-9118-1fb790962b08",
   "metadata": {},
   "outputs": [
    {
     "name": "stdout",
     "output_type": "stream",
     "text": [
      "took 75.07 seconds\n"
     ]
    }
   ],
   "source": [
    "t0 = time.time()\n",
    "\n",
    "topic_name = 'green-trips'\n",
    "\n",
    "for row in df_green.itertuples(index=False):\n",
    "    row_dict = {col: getattr(row, col) for col in row._fields}\n",
    "    # print(row_dict)\n",
    "\n",
    "    producer.send(topic_name, value=row_dict)\n",
    "\n",
    "producer.flush()\n",
    "\n",
    "t1 = time.time()\n",
    "print(f'took {(t1 - t0):.2f} seconds')"
   ]
  },
  {
   "cell_type": "code",
   "execution_count": null,
   "id": "e5901c18-3264-46fa-abfd-36886c534485",
   "metadata": {},
   "outputs": [],
   "source": []
  }
 ],
 "metadata": {
  "kernelspec": {
   "display_name": "Python 3 (ipykernel)",
   "language": "python",
   "name": "python3"
  },
  "language_info": {
   "codemirror_mode": {
    "name": "ipython",
    "version": 3
   },
   "file_extension": ".py",
   "mimetype": "text/x-python",
   "name": "python",
   "nbconvert_exporter": "python",
   "pygments_lexer": "ipython3",
   "version": "3.8.10"
  }
 },
 "nbformat": 4,
 "nbformat_minor": 5
}
